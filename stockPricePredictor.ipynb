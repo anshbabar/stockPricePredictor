{
  "nbformat": 4,
  "nbformat_minor": 0,
  "metadata": {
    "colab": {
      "provenance": []
    },
    "kernelspec": {
      "name": "python3",
      "display_name": "Python 3"
    },
    "language_info": {
      "name": "python"
    }
  },
  "cells": [
    {
      "cell_type": "code",
      "execution_count": 12,
      "metadata": {
        "colab": {
          "base_uri": "https://localhost:8080/"
        },
        "id": "yCA6B5HepWtU",
        "outputId": "9ee5c52a-01c6-436d-ad08-ba0dd5d31b6f"
      },
      "outputs": [
        {
          "output_type": "stream",
          "name": "stdout",
          "text": [
            "[201.09290459 187.56490046 253.58469659]\n",
            "[204.04880537 158.79260148 262.5564985  267.41169105 245.46110385\n",
            " 205.87799773 198.16520565 225.04829565 177.22270167]\n",
            "815.5915658306752\n",
            "186.948632436739\n"
          ]
        }
      ],
      "source": [
        "import pandas as pd\n",
        "from sklearn.model_selection import train_test_split\n",
        "from sklearn.ensemble import RandomForestRegressor\n",
        "from sklearn.metrics import mean_squared_error\n",
        "import numpy as np\n",
        "import matplotlib.pyplot as plt\n",
        "\n",
        "# Data\n",
        "stock_data = pd.read_csv('stock_prices.csv')\n",
        "\n",
        "# Preprocessing\n",
        "\n",
        "features = ['Open', 'Close', 'Volume']\n",
        "target = 'Adj Close'\n",
        "X = stock_data[features]\n",
        "y = stock_data[target]\n",
        "\n",
        "# Spliting the Data\n",
        "X_train, X_test, y_train, y_test = train_test_split(X, y, test_size=0.2, random_state=42)\n",
        "\n",
        "# Training the Model\n",
        "model = RandomForestRegressor(n_estimators=100, random_state=42)\n",
        "model.fit(X_train, y_train)\n",
        "\n",
        "# Predictions\n",
        "y_pred_train = model.predict(X_train)\n",
        "y_pred_test = model.predict(X_test)\n",
        "\n",
        "# Evaluate the Model\n",
        "mse_train = mean_squared_error(y_train, y_pred_train)\n",
        "mse_test = mean_squared_error(y_test, y_pred_test)\n",
        "\n",
        "print(y_pred_test)\n",
        "print(y_pred_train)\n",
        "print(mse_test)\n",
        "print(mse_train)\n"
      ]
    }
  ]
}